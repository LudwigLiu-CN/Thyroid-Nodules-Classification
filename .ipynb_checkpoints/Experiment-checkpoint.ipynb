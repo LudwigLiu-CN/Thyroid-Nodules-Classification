{
 "cells": [
  {
   "cell_type": "code",
   "execution_count": 1,
   "metadata": {},
   "outputs": [
    {
     "name": "stderr",
     "output_type": "stream",
     "text": [
      "Using TensorFlow backend.\n"
     ]
    }
   ],
   "source": [
    "import numpy as np\n",
    "import os\n",
    "import random\n",
    "import matplotlib.pyplot as plt\n",
    "import keras\n",
    "import resnet\n",
    "import keras.backend as K\n",
    "import tensorflow as tf\n",
    "import FinalNetwork \n",
    "import MyNetWork \n",
    "\n",
    "from keras.utils import np_utils\n",
    "from skimage import feature as ft\n",
    "from GoogLeNet import MiniGoogLeNet\n",
    "from Functions import processData, all_features, hog, lbp, haar, hoglbp, hoghaar, lbphaar\n",
    "from Functions import TPR, TNR, ROC_AUC\n",
    "from skimage import transform\n",
    "from keras import optimizers\n",
    "from keras.preprocessing.image import ImageDataGenerator\n",
    "from keras.callbacks import ReduceLROnPlateau, CSVLogger, EarlyStopping, ModelCheckpoint\n",
    "\n",
    "from scipy import interp  \n",
    "import matplotlib.pyplot as plt  \n",
    "from sklearn import svm, datasets  \n",
    "from sklearn.metrics import roc_curve, auc  \n",
    "from sklearn.model_selection import StratifiedKFold"
   ]
  },
  {
   "cell_type": "code",
   "execution_count": 2,
   "metadata": {},
   "outputs": [
    {
     "name": "stdout",
     "output_type": "stream",
     "text": [
      "(997, 1, 17472, 1)\n"
     ]
    }
   ],
   "source": [
    "#Input = np.load('Data/final_data.npz')\n",
    "Input = np.load('Data/experimentData.npz')\n",
    "\n",
    "data = Input[\"data\"]\n",
    "label = Input[\"label\"]\n",
    "\n",
    "feature = []\n",
    "for i in range(data.shape[0]):\n",
    "    feature.append(all_features(data[i]))\n",
    "feature = np.array(feature)\n",
    "feature.resize(feature.shape[0],1, feature.shape[1],1)\n",
    "print (feature.shape)\n",
    "\n",
    "train_list, val_list = processData([data, feature], label, True, 1)"
   ]
  },
  {
   "cell_type": "code",
   "execution_count": 3,
   "metadata": {},
   "outputs": [],
   "source": [
    "def dataGenerator(x_train_arr, y_train_arr, func_features):\n",
    "    \n",
    "    datagen = ImageDataGenerator(\n",
    "        featurewise_center=False,  # set input mean to 0 over the dataset\n",
    "        samplewise_center=False,  # set each sample mean to 0\n",
    "        featurewise_std_normalization=False,  # divide inputs by std of the dataset\n",
    "        samplewise_std_normalization=False,  # divide each input by its std\n",
    "        zca_whitening=False,  # apply ZCA whitening\n",
    "        rotation_range=0,  # randomly rotate images in the range (degrees, 0 to 180)\n",
    "        width_shift_range=0.1,  # randomly shift images horizontally (fraction of total width)\n",
    "        height_shift_range=0.1,  # randomly shift images vertically (fraction of total height)\n",
    "        horizontal_flip=True,  # randomly flip images\n",
    "        vertical_flip=True)  # randomly flip images\n",
    "    \n",
    "    \n",
    "    genX1 = datagen.flow(x_train_arr,y_train_arr, batch_size=batch_size)\n",
    "\n",
    "    while True:\n",
    "        X1i = genX1.next()\n",
    "        features = []\n",
    "        for i in range(len(X1i[0])):\n",
    "            temp = func_features(X1i[0][i])\n",
    "            temp = temp.reshape(1, temp.shape[0], 1)\n",
    "            features.append(temp)\n",
    "        features = np.array(features)\n",
    "\n",
    "        yield ([X1i[0], features ], X1i[1])"
   ]
  },
  {
   "cell_type": "code",
   "execution_count": 4,
   "metadata": {},
   "outputs": [
    {
     "name": "stdout",
     "output_type": "stream",
     "text": [
      "(798, 128, 128, 1)\n",
      "(798, 1, 17472, 1)\n",
      "(798, 2)\n",
      "(199, 128, 128, 1)\n",
      "(199, 1, 17472, 1)\n",
      "(199, 2)\n"
     ]
    }
   ],
   "source": [
    "x_train_arr = train_list[0][0][0]\n",
    "f_train_arr = train_list[0][0][1]\n",
    "y_train_arr = train_list[0][1]\n",
    "x_test_arr = val_list[0][0][0]\n",
    "f_test_arr = val_list[0][0][1]\n",
    "y_test_arr = val_list[0][1]\n",
    "print(x_train_arr.shape)\n",
    "print(f_train_arr.shape)\n",
    "print(y_train_arr.shape)\n",
    "print(x_test_arr.shape)\n",
    "print(f_test_arr.shape)\n",
    "print(y_test_arr.shape)"
   ]
  },
  {
   "cell_type": "code",
   "execution_count": 5,
   "metadata": {},
   "outputs": [
    {
     "data": {
      "text/plain": [
       "25"
      ]
     },
     "execution_count": 5,
     "metadata": {},
     "output_type": "execute_result"
    }
   ],
   "source": [
    "import csv\n",
    "f = open('ExperimentResult/temp.csv','w',encoding='utf-8')\n",
    "csv_writer = csv.writer(f)\n",
    "csv_writer.writerow([\"NetWork\",\"Acc\",\"TPR\",\"TNR\",\"AUC\"])"
   ]
  },
  {
   "cell_type": "code",
   "execution_count": 6,
   "metadata": {
    "scrolled": true
   },
   "outputs": [
    {
     "name": "stdout",
     "output_type": "stream",
     "text": [
      "WARNING:tensorflow:From /home/ilab/anaconda2/envs/py36/lib/python3.6/site-packages/keras/backend/tensorflow_backend.py:95: The name tf.reset_default_graph is deprecated. Please use tf.compat.v1.reset_default_graph instead.\n",
      "\n",
      "WARNING:tensorflow:From /home/ilab/anaconda2/envs/py36/lib/python3.6/site-packages/keras/backend/tensorflow_backend.py:98: The name tf.placeholder_with_default is deprecated. Please use tf.compat.v1.placeholder_with_default instead.\n",
      "\n",
      "WARNING:tensorflow:From /home/ilab/anaconda2/envs/py36/lib/python3.6/site-packages/keras/backend/tensorflow_backend.py:102: The name tf.get_default_graph is deprecated. Please use tf.compat.v1.get_default_graph instead.\n",
      "\n",
      "WARNING:tensorflow:From /home/ilab/anaconda2/envs/py36/lib/python3.6/site-packages/keras/backend/tensorflow_backend.py:517: The name tf.placeholder is deprecated. Please use tf.compat.v1.placeholder instead.\n",
      "\n",
      "WARNING:tensorflow:From /home/ilab/anaconda2/envs/py36/lib/python3.6/site-packages/keras/backend/tensorflow_backend.py:3976: The name tf.nn.max_pool is deprecated. Please use tf.nn.max_pool2d instead.\n",
      "\n",
      "WARNING:tensorflow:From /home/ilab/anaconda2/envs/py36/lib/python3.6/site-packages/keras/backend/tensorflow_backend.py:4138: The name tf.random_uniform is deprecated. Please use tf.random.uniform instead.\n",
      "\n",
      "WARNING:tensorflow:From /home/ilab/anaconda2/envs/py36/lib/python3.6/site-packages/keras/backend/tensorflow_backend.py:174: The name tf.get_default_session is deprecated. Please use tf.compat.v1.get_default_session instead.\n",
      "\n",
      "WARNING:tensorflow:From /home/ilab/anaconda2/envs/py36/lib/python3.6/site-packages/keras/backend/tensorflow_backend.py:181: The name tf.ConfigProto is deprecated. Please use tf.compat.v1.ConfigProto instead.\n",
      "\n",
      "WARNING:tensorflow:From /home/ilab/anaconda2/envs/py36/lib/python3.6/site-packages/keras/backend/tensorflow_backend.py:186: The name tf.Session is deprecated. Please use tf.compat.v1.Session instead.\n",
      "\n",
      "WARNING:tensorflow:From /home/ilab/anaconda2/envs/py36/lib/python3.6/site-packages/keras/backend/tensorflow_backend.py:190: The name tf.global_variables is deprecated. Please use tf.compat.v1.global_variables instead.\n",
      "\n",
      "WARNING:tensorflow:From /home/ilab/anaconda2/envs/py36/lib/python3.6/site-packages/keras/backend/tensorflow_backend.py:199: The name tf.is_variable_initialized is deprecated. Please use tf.compat.v1.is_variable_initialized instead.\n",
      "\n",
      "WARNING:tensorflow:From /home/ilab/anaconda2/envs/py36/lib/python3.6/site-packages/keras/backend/tensorflow_backend.py:206: The name tf.variables_initializer is deprecated. Please use tf.compat.v1.variables_initializer instead.\n",
      "\n",
      "WARNING:tensorflow:From /home/ilab/anaconda2/envs/py36/lib/python3.6/site-packages/keras/backend/tensorflow_backend.py:1834: The name tf.nn.fused_batch_norm is deprecated. Please use tf.compat.v1.nn.fused_batch_norm instead.\n",
      "\n",
      "WARNING:tensorflow:From /home/ilab/anaconda2/envs/py36/lib/python3.6/site-packages/keras/backend/tensorflow_backend.py:3980: The name tf.nn.avg_pool is deprecated. Please use tf.nn.avg_pool2d instead.\n",
      "\n",
      "WARNING:tensorflow:From /home/ilab/anaconda2/envs/py36/lib/python3.6/site-packages/keras/backend/tensorflow_backend.py:4185: The name tf.truncated_normal is deprecated. Please use tf.random.truncated_normal instead.\n",
      "\n",
      "WARNING:tensorflow:From /home/ilab/anaconda2/envs/py36/lib/python3.6/site-packages/keras/optimizers.py:790: The name tf.train.Optimizer is deprecated. Please use tf.compat.v1.train.Optimizer instead.\n",
      "\n",
      "WARNING:tensorflow:From /home/ilab/anaconda2/envs/py36/lib/python3.6/site-packages/keras/backend/tensorflow_backend.py:3295: The name tf.log is deprecated. Please use tf.math.log instead.\n",
      "\n",
      "Acc:  0.859296483011102\n",
      "TPR:  0.8872180451127819\n",
      "TNR:  0.803030303030303\n",
      "AUC:  0.9342674868990658\n"
     ]
    },
    {
     "data": {
      "text/plain": [
       "81"
      ]
     },
     "execution_count": 6,
     "metadata": {},
     "output_type": "execute_result"
    },
    {
     "data": {
      "image/png": "[encoded data removed]",
      "text/plain": [
       "<Figure size 432x288 with 1 Axes>"
      ]
     },
     "metadata": {
      "needs_background": "light"
     },
     "output_type": "display_data"
    }
   ],
   "source": [
    "#MyNet\n",
    "K.clear_session()\n",
    "tf.reset_default_graph()\n",
    "\n",
    "model = FinalNetwork.NetBuilder.finalNet(input_shape = (128, 128, 1), feature_shape = (1,17472, 1), num_outputs = 2, sampling_size = (128, 128))\n",
    "model.load_weights('/media/ilab/35C588B63481173F/SelectModel/MyNetBest.hdf5')\n",
    "model.compile(loss='categorical_crossentropy',\n",
    "            optimizer='Adam',\n",
    "            metrics=['accuracy'])\n",
    "# Acc\n",
    "score = model.evaluate([x_test_arr, f_test_arr], y_test_arr, verbose=0)\n",
    "print(\"Acc: \",score[1])\n",
    "# TPR\n",
    "predict = model.predict([x_test_arr, f_test_arr])\n",
    "predict_classes=np.argmax(predict,axis=1)\n",
    "predict_classes=np_utils.to_categorical(predict_classes, 2)\n",
    "val_TPR = TPR(y_test_arr, predict_classes)\n",
    "print(\"TPR: \",val_TPR)\n",
    "# TNR\n",
    "val_TNR = TNR(y_test_arr, predict_classes)\n",
    "print(\"TNR: \",val_TNR)\n",
    "# ROC&AUC\n",
    "fpr_MyNet, tpr_MyNet, auc_MyNet = ROC_AUC(y_test_arr, predict)\n",
    "print(\"AUC: \", auc_MyNet)\n",
    "# write CSV\n",
    "csv_writer.writerow([\"MyNet\", score[1], val_TPR, val_TNR, auc_MyNet])"
   ]
  },
  {
   "cell_type": "code",
   "execution_count": 7,
   "metadata": {},
   "outputs": [
    {
     "name": "stdout",
     "output_type": "stream",
     "text": [
      "Acc:  0.9296482412060302\n",
      "TPR:  0.9323308270676691\n",
      "TNR:  0.9242424242424242\n",
      "AUC:  0.9608111187058556\n"
     ]
    },
    {
     "data": {
      "text/plain": [
       "84"
      ]
     },
     "execution_count": 7,
     "metadata": {},
     "output_type": "execute_result"
    },
    {
     "data": {
      "image/png": "[encoded data removed]",
      "text/plain": [
       "<Figure size 432x288 with 1 Axes>"
      ]
     },
     "metadata": {
      "needs_background": "light"
     },
     "output_type": "display_data"
    }
   ],
   "source": [
    "#ST-Res\n",
    "K.clear_session()\n",
    "tf.reset_default_graph()\n",
    "\n",
    "nb_classes = 2\n",
    "model = MyNetWork.NetBuilder.ST_res50(input_shape = (128, 128, 1), num_outputs = nb_classes, sampling_size = (128, 128))\n",
    "model.load_weights('/media/ilab/35C588B63481173F/SelectModel/STResnetBest.hdf5')\n",
    "model.compile(loss='categorical_crossentropy',\n",
    "              optimizer='Adam',\n",
    "              metrics=['accuracy'])\n",
    "\n",
    "# Acc\n",
    "score = model.evaluate(x_test_arr, y_test_arr, verbose=0)\n",
    "print(\"Acc: \",score[1])\n",
    "# TPR\n",
    "predict = model.predict(x_test_arr)\n",
    "predict_classes=np.argmax(predict,axis=1)\n",
    "predict_classes=np_utils.to_categorical(predict_classes, 2)\n",
    "val_TPR = TPR(y_test_arr, predict_classes)\n",
    "print(\"TPR: \",val_TPR)\n",
    "# TNR\n",
    "val_TNR = TNR(y_test_arr, predict_classes)\n",
    "print(\"TNR: \",val_TNR)\n",
    "# ROC&AUC\n",
    "fpr_STRes, tpr_STRes, auc_STRes = ROC_AUC(y_test_arr, predict)\n",
    "print(\"AUC: \", auc_STRes)\n",
    "# write CSV\n",
    "csv_writer.writerow([\"ST-Res\", score[1], val_TPR, val_TNR, auc_STRes])"
   ]
  },
  {
   "cell_type": "code",
   "execution_count": 8,
   "metadata": {},
   "outputs": [
    {
     "name": "stdout",
     "output_type": "stream",
     "text": [
      "Acc:  0.8442211061266799\n",
      "TPR:  0.8345864661654135\n",
      "TNR:  0.8636363636363636\n",
      "AUC:  0.9171793119161541\n"
     ]
    },
    {
     "data": {
      "text/plain": [
       "84"
      ]
     },
     "execution_count": 8,
     "metadata": {},
     "output_type": "execute_result"
    },
    {
     "data": {
      "image/png": "[encoded data removed]",
      "text/plain": [
       "<Figure size 432x288 with 1 Axes>"
      ]
     },
     "metadata": {
      "needs_background": "light"
     },
     "output_type": "display_data"
    }
   ],
   "source": [
    "#ResNet\n",
    "K.clear_session()\n",
    "tf.reset_default_graph()\n",
    "\n",
    "model = resnet.ResnetBuilder.build_resnet_50((1, 128, 128), nb_classes)\n",
    "model.load_weights('/media/ilab/35C588B63481173F/SelectModel/ResnetBest.hdf5')\n",
    "model.compile(loss='categorical_crossentropy',\n",
    "              optimizer='Adam',\n",
    "              metrics=['accuracy'])\n",
    "# Acc\n",
    "score = model.evaluate(x_test_arr, y_test_arr, verbose=0)\n",
    "print(\"Acc: \",score[1])\n",
    "# TPR\n",
    "predict = model.predict(x_test_arr)\n",
    "predict_classes=np.argmax(predict,axis=1)\n",
    "predict_classes=np_utils.to_categorical(predict_classes, 2)\n",
    "val_TPR = TPR(y_test_arr, predict_classes)\n",
    "print(\"TPR: \",val_TPR)\n",
    "# TNR\n",
    "val_TNR = TNR(y_test_arr, predict_classes)\n",
    "print(\"TNR: \",val_TNR)\n",
    "# ROC&AUC\n",
    "fpr_ResNet, tpr_ResNet, auc_ResNet = ROC_AUC(y_test_arr, predict)\n",
    "print(\"AUC: \", auc_ResNet)\n",
    "# write CSV\n",
    "csv_writer.writerow([\"ResNet\", score[1], val_TPR, val_TNR, auc_ResNet])"
   ]
  },
  {
   "cell_type": "code",
   "execution_count": 9,
   "metadata": {},
   "outputs": [
    {
     "name": "stdout",
     "output_type": "stream",
     "text": [
      "Acc:  0.8643216086392427\n",
      "TPR:  0.8872180451127819\n",
      "TNR:  0.8181818181818182\n",
      "AUC:  0.9387104123946228\n"
     ]
    },
    {
     "data": {
      "text/plain": [
       "91"
      ]
     },
     "execution_count": 9,
     "metadata": {},
     "output_type": "execute_result"
    },
    {
     "data": {
      "image/png": "[encoded data removed]",
      "text/plain": [
       "<Figure size 432x288 with 1 Axes>"
      ]
     },
     "metadata": {
      "needs_background": "light"
     },
     "output_type": "display_data"
    }
   ],
   "source": [
    "#with only HOG\n",
    "K.clear_session()\n",
    "tf.reset_default_graph()\n",
    "\n",
    "temp_f_test_arr=[]\n",
    "for test in x_test_arr:\n",
    "    temp_f_test_arr.append(hog(test).reshape(1, 800, 1))\n",
    "temp_f_test_arr = np.array(temp_f_test_arr)\n",
    "\n",
    "model = FinalNetwork.NetBuilder.finalNet(input_shape = (128, 128, 1), feature_shape = (1, 800, 1), num_outputs = nb_classes, sampling_size = (128, 128))\n",
    "model.load_weights('/media/ilab/35C588B63481173F/SelectModel/withHogBest.hdf5')\n",
    "model.compile(loss='categorical_crossentropy',\n",
    "              optimizer='Adam',\n",
    "              metrics=['accuracy'])\n",
    "# Acc\n",
    "score = model.evaluate([x_test_arr, temp_f_test_arr], y_test_arr, verbose=0)\n",
    "print(\"Acc: \",score[1])\n",
    "# TPR\n",
    "predict = model.predict([x_test_arr, temp_f_test_arr])\n",
    "predict_classes=np.argmax(predict,axis=1)\n",
    "predict_classes=np_utils.to_categorical(predict_classes, 2)\n",
    "val_TPR = TPR(y_test_arr, predict_classes)\n",
    "print(\"TPR: \",val_TPR)\n",
    "# TNR\n",
    "val_TNR = TNR(y_test_arr, predict_classes)\n",
    "print(\"TNR: \",val_TNR)\n",
    "# ROC&AUC\n",
    "fpr_HOG, tpr_HOG, auc_HOG = ROC_AUC(y_test_arr, predict)\n",
    "print(\"AUC: \", auc_HOG)\n",
    "# write CSV\n",
    "csv_writer.writerow([\"with HOG only\", score[1], val_TPR, val_TNR, auc_HOG])"
   ]
  },
  {
   "cell_type": "code",
   "execution_count": 10,
   "metadata": {},
   "outputs": [
    {
     "name": "stdout",
     "output_type": "stream",
     "text": [
      "Acc:  0.8793969852241439\n",
      "TPR:  0.8947368421052632\n",
      "TNR:  0.8484848484848485\n",
      "AUC:  0.931077694235589\n"
     ]
    },
    {
     "data": {
      "text/plain": [
       "90"
      ]
     },
     "execution_count": 10,
     "metadata": {},
     "output_type": "execute_result"
    },
    {
     "data": {
      "image/png": "[encoded data removed]",
      "text/plain": [
       "<Figure size 432x288 with 1 Axes>"
      ]
     },
     "metadata": {
      "needs_background": "light"
     },
     "output_type": "display_data"
    }
   ],
   "source": [
    "#with only lbp\n",
    "K.clear_session()\n",
    "tf.reset_default_graph()\n",
    "\n",
    "temp_f_test_arr=[]\n",
    "for test in x_test_arr:\n",
    "    temp_f_test_arr.append(lbp(test).reshape(1, 16384, 1))\n",
    "temp_f_test_arr = np.array(temp_f_test_arr)\n",
    "\n",
    "model = FinalNetwork.NetBuilder.finalNet(input_shape = (128, 128, 1), feature_shape = (1, 16384, 1), num_outputs = nb_classes, sampling_size = (128, 128))\n",
    "model.load_weights('/media/ilab/35C588B63481173F/SelectModel/withLbpBest.hdf5')\n",
    "model.compile(loss='categorical_crossentropy',\n",
    "              optimizer='Adam',\n",
    "              metrics=['accuracy'])\n",
    "# Acc\n",
    "score = model.evaluate([x_test_arr, temp_f_test_arr], y_test_arr, verbose=0)\n",
    "print(\"Acc: \",score[1])\n",
    "# TPR\n",
    "predict = model.predict([x_test_arr, temp_f_test_arr])\n",
    "predict_classes=np.argmax(predict,axis=1)\n",
    "predict_classes=np_utils.to_categorical(predict_classes, 2)\n",
    "val_TPR = TPR(y_test_arr, predict_classes)\n",
    "print(\"TPR: \",val_TPR)\n",
    "# TNR\n",
    "val_TNR = TNR(y_test_arr, predict_classes)\n",
    "print(\"TNR: \",val_TNR)\n",
    "# ROC&AUC\n",
    "fpr_LBP, tpr_LBP, auc_LBP = ROC_AUC(y_test_arr, predict)\n",
    "print(\"AUC: \", auc_LBP)\n",
    "# write CSV\n",
    "csv_writer.writerow([\"with LBP only\", score[1], val_TPR, val_TNR, auc_LBP])"
   ]
  },
  {
   "cell_type": "code",
   "execution_count": 11,
   "metadata": {},
   "outputs": [
    {
     "name": "stdout",
     "output_type": "stream",
     "text": [
      "Acc:  0.844221105827159\n",
      "TPR:  0.9323308270676691\n",
      "TNR:  0.6666666666666666\n",
      "AUC:  0.9053315105946685\n"
     ]
    },
    {
     "data": {
      "text/plain": [
       "91"
      ]
     },
     "execution_count": 11,
     "metadata": {},
     "output_type": "execute_result"
    },
    {
     "data": {
      "image/png": "[encoded data removed]",
      "text/plain": [
       "<Figure size 432x288 with 1 Axes>"
      ]
     },
     "metadata": {
      "needs_background": "light"
     },
     "output_type": "display_data"
    }
   ],
   "source": [
    "#with only haar\n",
    "K.clear_session()\n",
    "tf.reset_default_graph()\n",
    "\n",
    "temp_f_test_arr=[]\n",
    "for test in x_test_arr:\n",
    "    temp_f_test_arr.append(haar(test).reshape(1, 288, 1))\n",
    "temp_f_test_arr = np.array(temp_f_test_arr)\n",
    "\n",
    "model = FinalNetwork.NetBuilder.finalNet(input_shape = (128, 128, 1), feature_shape = (1, 288, 1), num_outputs = nb_classes, sampling_size = (128, 128))\n",
    "model.load_weights('/media/ilab/35C588B63481173F/SelectModel/withHaarBest.hdf5')\n",
    "model.compile(loss='categorical_crossentropy',\n",
    "              optimizer='Adam',\n",
    "              metrics=['accuracy'])\n",
    "# Acc\n",
    "score = model.evaluate([x_test_arr, temp_f_test_arr], y_test_arr, verbose=0)\n",
    "print(\"Acc: \",score[1])\n",
    "# TPR\n",
    "predict = model.predict([x_test_arr, temp_f_test_arr])\n",
    "predict_classes=np.argmax(predict,axis=1)\n",
    "predict_classes=np_utils.to_categorical(predict_classes, 2)\n",
    "val_TPR = TPR(y_test_arr, predict_classes)\n",
    "print(\"TPR: \",val_TPR)\n",
    "# TNR\n",
    "val_TNR = TNR(y_test_arr, predict_classes)\n",
    "print(\"TNR: \",val_TNR)\n",
    "# ROC&AUC\n",
    "fpr_HAAR, tpr_HAAR, auc_HAAR = ROC_AUC(y_test_arr, predict)\n",
    "print(\"AUC: \", auc_HAAR)\n",
    "# write CSV\n",
    "csv_writer.writerow([\"with HAAR only\", score[1], val_TPR, val_TNR, auc_HAAR])"
   ]
  },
  {
   "cell_type": "code",
   "execution_count": 12,
   "metadata": {},
   "outputs": [
    {
     "name": "stdout",
     "output_type": "stream",
     "text": [
      "Acc:  0.8793969852241439\n",
      "TPR:  0.8796992481203008\n",
      "TNR:  0.8787878787878788\n",
      "AUC:  0.9532923217133744\n"
     ]
    },
    {
     "data": {
      "text/plain": [
       "90"
      ]
     },
     "execution_count": 12,
     "metadata": {},
     "output_type": "execute_result"
    },
    {
     "data": {
      "image/png": "[encoded data removed]",
      "text/plain": [
       "<Figure size 432x288 with 1 Axes>"
      ]
     },
     "metadata": {
      "needs_background": "light"
     },
     "output_type": "display_data"
    }
   ],
   "source": [
    "#with Hog&Lbp\n",
    "K.clear_session()\n",
    "tf.reset_default_graph()\n",
    "\n",
    "temp_f_test_arr=[]\n",
    "for test in x_test_arr:\n",
    "    temp_f = np.concatenate((hog(test), lbp(test)),axis=0)\n",
    "    temp_f_test_arr.append(temp_f.reshape(1, 17184, 1))\n",
    "temp_f_test_arr = np.array(temp_f_test_arr)\n",
    "\n",
    "model = FinalNetwork.NetBuilder.finalNet(input_shape = (128, 128, 1), feature_shape = (1, 17184, 1), num_outputs = nb_classes, sampling_size = (128, 128))\n",
    "model.load_weights('/media/ilab/35C588B63481173F/SelectModel/withHog&LbpBest.hdf5')\n",
    "model.compile(loss='categorical_crossentropy',\n",
    "                  optimizer='Adam',\n",
    "                  metrics=['accuracy'])\n",
    "# Acc\n",
    "score = model.evaluate([x_test_arr, temp_f_test_arr], y_test_arr, verbose=0)\n",
    "print(\"Acc: \",score[1])\n",
    "# TPR\n",
    "predict = model.predict([x_test_arr, temp_f_test_arr])\n",
    "predict_classes=np.argmax(predict,axis=1)\n",
    "predict_classes=np_utils.to_categorical(predict_classes, 2)\n",
    "val_TPR = TPR(y_test_arr, predict_classes)\n",
    "print(\"TPR: \",val_TPR)\n",
    "# TNR\n",
    "val_TNR = TNR(y_test_arr, predict_classes)\n",
    "print(\"TNR: \",val_TNR)\n",
    "# ROC&AUC\n",
    "fpr_HOGLBP, tpr_HOGLBP, auc_HOGLBP = ROC_AUC(y_test_arr, predict)\n",
    "print(\"AUC: \", auc_HOGLBP)\n",
    "# write CSV\n",
    "csv_writer.writerow([\"with HOG&LBP\", score[1], val_TPR, val_TNR, auc_HOGLBP])"
   ]
  },
  {
   "cell_type": "code",
   "execution_count": 13,
   "metadata": {},
   "outputs": [
    {
     "name": "stdout",
     "output_type": "stream",
     "text": [
      "Acc:  0.9095477386934674\n",
      "TPR:  0.9323308270676691\n",
      "TNR:  0.8636363636363636\n",
      "AUC:  0.9357484620642514\n"
     ]
    },
    {
     "data": {
      "text/plain": [
       "91"
      ]
     },
     "execution_count": 13,
     "metadata": {},
     "output_type": "execute_result"
    },
    {
     "data": {
      "image/png": "[encoded data removed]",
      "text/plain": [
       "<Figure size 432x288 with 1 Axes>"
      ]
     },
     "metadata": {
      "needs_background": "light"
     },
     "output_type": "display_data"
    }
   ],
   "source": [
    "#with Hog&Haar\n",
    "K.clear_session()\n",
    "tf.reset_default_graph()\n",
    "\n",
    "temp_f_test_arr=[]\n",
    "for test in x_test_arr:\n",
    "    temp_f = np.concatenate((hog(test), haar(test)),axis=0)\n",
    "    temp_f_test_arr.append(temp_f.reshape(1, 1088, 1))\n",
    "temp_f_test_arr = np.array(temp_f_test_arr)\n",
    "\n",
    "model = FinalNetwork.NetBuilder.finalNet(input_shape = (128, 128, 1), feature_shape = (1, 1088, 1), num_outputs = nb_classes, sampling_size = (128, 128))\n",
    "model.load_weights('/media/ilab/35C588B63481173F/SelectModel/withHog&HaarBest.hdf5')\n",
    "model.compile(loss='categorical_crossentropy',\n",
    "                  optimizer='Adam',\n",
    "                  metrics=['accuracy'])\n",
    "# Acc\n",
    "score = model.evaluate([x_test_arr, temp_f_test_arr], y_test_arr, verbose=0)\n",
    "print(\"Acc: \",score[1])\n",
    "# TPR\n",
    "predict = model.predict([x_test_arr, temp_f_test_arr])\n",
    "predict_classes=np.argmax(predict,axis=1)\n",
    "predict_classes=np_utils.to_categorical(predict_classes, 2)\n",
    "val_TPR = TPR(y_test_arr, predict_classes)\n",
    "print(\"TPR: \",val_TPR)\n",
    "# TNR\n",
    "val_TNR = TNR(y_test_arr, predict_classes)\n",
    "print(\"TNR: \",val_TNR)\n",
    "# ROC&AUC\n",
    "fpr_HOGHAAR, tpr_HOGHAAR, auc_HOGHAAR = ROC_AUC(y_test_arr, predict)\n",
    "print(\"AUC: \", auc_HOGHAAR)\n",
    "# write CSV\n",
    "csv_writer.writerow([\"with HOG&HAAR\", score[1], val_TPR, val_TNR, auc_HOGHAAR])"
   ]
  },
  {
   "cell_type": "code",
   "execution_count": 14,
   "metadata": {},
   "outputs": [
    {
     "name": "stdout",
     "output_type": "stream",
     "text": [
      "Acc:  0.8793969855236647\n",
      "TPR:  0.9624060150375939\n",
      "TNR:  0.7121212121212122\n",
      "AUC:  0.9187742082478925\n"
     ]
    },
    {
     "data": {
      "text/plain": [
       "91"
      ]
     },
     "execution_count": 14,
     "metadata": {},
     "output_type": "execute_result"
    },
    {
     "data": {
      "image/png": "[encoded data removed]",
      "text/plain": [
       "<Figure size 432x288 with 1 Axes>"
      ]
     },
     "metadata": {
      "needs_background": "light"
     },
     "output_type": "display_data"
    }
   ],
   "source": [
    "#with Lbp&Haar\n",
    "K.clear_session()\n",
    "tf.reset_default_graph()\n",
    "\n",
    "temp_f_test_arr=[]\n",
    "for test in x_test_arr:\n",
    "    temp_f = np.concatenate((lbp(test), haar(test)),axis=0)\n",
    "    temp_f_test_arr.append(temp_f.reshape(1, 16672, 1))\n",
    "temp_f_test_arr = np.array(temp_f_test_arr)\n",
    "\n",
    "model = FinalNetwork.NetBuilder.finalNet(input_shape = (128, 128, 1), feature_shape = (1, 16672, 1), num_outputs = nb_classes, sampling_size = (128, 128))\n",
    "model.load_weights('/media/ilab/35C588B63481173F/SelectModel/withLbp&HaarBest.hdf5')\n",
    "model.compile(loss='categorical_crossentropy',\n",
    "                  optimizer='Adam',\n",
    "                  metrics=['accuracy'])\n",
    "# Acc\n",
    "score = model.evaluate([x_test_arr, temp_f_test_arr], y_test_arr, verbose=0)\n",
    "print(\"Acc: \",score[1])\n",
    "# TPR\n",
    "predict = model.predict([x_test_arr, temp_f_test_arr])\n",
    "predict_classes=np.argmax(predict,axis=1)\n",
    "predict_classes=np_utils.to_categorical(predict_classes, 2)\n",
    "val_TPR = TPR(y_test_arr, predict_classes)\n",
    "print(\"TPR: \",val_TPR)\n",
    "# TNR\n",
    "val_TNR = TNR(y_test_arr, predict_classes)\n",
    "print(\"TNR: \",val_TNR)\n",
    "# ROC&AUC\n",
    "fpr_LBPHAAR, tpr_LBPHAAR, auc_LBPHAAR = ROC_AUC(y_test_arr, predict)\n",
    "print(\"AUC: \", auc_LBPHAAR)\n",
    "# write CSV\n",
    "csv_writer.writerow([\"with LBP&HAAR\", score[1], val_TPR, val_TNR, auc_LBPHAAR])"
   ]
  },
  {
   "cell_type": "code",
   "execution_count": 15,
   "metadata": {},
   "outputs": [
    {
     "name": "stdout",
     "output_type": "stream",
     "text": [
      "Acc:  0.8844221108522846\n",
      "TPR:  0.9774436090225563\n",
      "TNR:  0.696969696969697\n",
      "AUC:  0.9120528594212804\n"
     ]
    },
    {
     "data": {
      "text/plain": [
       "94"
      ]
     },
     "execution_count": 15,
     "metadata": {},
     "output_type": "execute_result"
    },
    {
     "data": {
      "image/png": "[encoded data removed]",
      "text/plain": [
       "<Figure size 432x288 with 1 Axes>"
      ]
     },
     "metadata": {
      "needs_background": "light"
     },
     "output_type": "display_data"
    }
   ],
   "source": [
    "# sampling size (96, 96)\n",
    "K.clear_session()\n",
    "tf.reset_default_graph()\n",
    "\n",
    "model = FinalNetwork.NetBuilder.finalNet(input_shape = (128, 128, 1), feature_shape = (1,17472, 1), num_outputs = nb_classes, sampling_size = (96, 96))\n",
    "model.load_weights('/media/ilab/35C588B63481173F/SelectModel/samplingSize96Best.hdf5')\n",
    "model.compile(loss='categorical_crossentropy',\n",
    "                  optimizer='Adam',\n",
    "                  metrics=['accuracy'])\n",
    "# Acc\n",
    "score = model.evaluate([x_test_arr, f_test_arr], y_test_arr, verbose=0)\n",
    "print(\"Acc: \",score[1])\n",
    "# TPR\n",
    "predict = model.predict([x_test_arr, f_test_arr])\n",
    "predict_classes=np.argmax(predict,axis=1)\n",
    "predict_classes=np_utils.to_categorical(predict_classes, 2)\n",
    "val_TPR = TPR(y_test_arr, predict_classes)\n",
    "print(\"TPR: \",val_TPR)\n",
    "# TNR\n",
    "val_TNR = TNR(y_test_arr, predict_classes)\n",
    "print(\"TNR: \",val_TNR)\n",
    "# ROC&AUC\n",
    "fpr_96, tpr_96, auc_96 = ROC_AUC(y_test_arr, predict)\n",
    "print(\"AUC: \", auc_96)\n",
    "# write CSV\n",
    "csv_writer.writerow([\"ST sampling 96*96\", score[1], val_TPR, val_TNR, auc_96])"
   ]
  },
  {
   "cell_type": "code",
   "execution_count": 16,
   "metadata": {},
   "outputs": [
    {
     "name": "stdout",
     "output_type": "stream",
     "text": [
      "Acc:  0.874371859895524\n",
      "TPR:  0.8872180451127819\n",
      "TNR:  0.8484848484848485\n",
      "AUC:  0.9106858054226474\n"
     ]
    },
    {
     "data": {
      "text/plain": [
       "94"
      ]
     },
     "execution_count": 16,
     "metadata": {},
     "output_type": "execute_result"
    },
    {
     "data": {
      "image/png": "[encoded data removed]",
      "text/plain": [
       "<Figure size 432x288 with 1 Axes>"
      ]
     },
     "metadata": {
      "needs_background": "light"
     },
     "output_type": "display_data"
    }
   ],
   "source": [
    "# sampling size (64, 64)\n",
    "K.clear_session()\n",
    "tf.reset_default_graph()\n",
    "\n",
    "model = FinalNetwork.NetBuilder.finalNet(input_shape = (128, 128, 1), feature_shape = (1,17472, 1), num_outputs = nb_classes, sampling_size = (64, 64))\n",
    "model.load_weights('/media/ilab/35C588B63481173F/SelectModel/samplingSize64Best.hdf5')\n",
    "model.compile(loss='categorical_crossentropy',\n",
    "                  optimizer='Adam',\n",
    "                  metrics=['accuracy'])\n",
    "# Acc\n",
    "score = model.evaluate([x_test_arr, f_test_arr], y_test_arr, verbose=0)\n",
    "print(\"Acc: \",score[1])\n",
    "# TPR\n",
    "predict = model.predict([x_test_arr, f_test_arr])\n",
    "predict_classes=np.argmax(predict,axis=1)\n",
    "predict_classes=np_utils.to_categorical(predict_classes, 2)\n",
    "val_TPR = TPR(y_test_arr, predict_classes)\n",
    "print(\"TPR: \",val_TPR)\n",
    "# TNR\n",
    "val_TNR = TNR(y_test_arr, predict_classes)\n",
    "print(\"TNR: \",val_TNR)\n",
    "# ROC&AUC\n",
    "fpr_64, tpr_64, auc_64 = ROC_AUC(y_test_arr, predict)\n",
    "print(\"AUC: \", auc_64)\n",
    "# write CSV\n",
    "csv_writer.writerow([\"ST sampling 64*64\", score[1], val_TPR, val_TNR, auc_64])"
   ]
  },
  {
   "cell_type": "code",
   "execution_count": 17,
   "metadata": {},
   "outputs": [
    {
     "name": "stdout",
     "output_type": "stream",
     "text": [
      "Acc:  0.8643216086392427\n",
      "TPR:  0.924812030075188\n",
      "TNR:  0.7424242424242424\n",
      "AUC:  0.9161540214171793\n"
     ]
    },
    {
     "data": {
      "text/plain": [
       "94"
      ]
     },
     "execution_count": 17,
     "metadata": {},
     "output_type": "execute_result"
    },
    {
     "data": {
      "image/png": "[encoded data removed]",
      "text/plain": [
       "<Figure size 432x288 with 1 Axes>"
      ]
     },
     "metadata": {
      "needs_background": "light"
     },
     "output_type": "display_data"
    }
   ],
   "source": [
    "# sampling size (32, 32)\n",
    "K.clear_session()\n",
    "tf.reset_default_graph()\n",
    "\n",
    "model = FinalNetwork.NetBuilder.finalNet(input_shape = (128, 128, 1), feature_shape = (1,17472, 1), num_outputs = nb_classes, sampling_size = (32, 32))\n",
    "model.load_weights('/media/ilab/35C588B63481173F/SelectModel/samplingSize32Best.hdf5')\n",
    "model.compile(loss='categorical_crossentropy',\n",
    "                  optimizer='Adam',\n",
    "                  metrics=['accuracy'])\n",
    "# Acc\n",
    "score = model.evaluate([x_test_arr, f_test_arr], y_test_arr, verbose=0)\n",
    "print(\"Acc: \",score[1])\n",
    "# TPR\n",
    "predict = model.predict([x_test_arr, f_test_arr])\n",
    "predict_classes=np.argmax(predict,axis=1)\n",
    "predict_classes=np_utils.to_categorical(predict_classes, 2)\n",
    "val_TPR = TPR(y_test_arr, predict_classes)\n",
    "print(\"TPR: \",val_TPR)\n",
    "# TNR\n",
    "val_TNR = TNR(y_test_arr, predict_classes)\n",
    "print(\"TNR: \",val_TNR)\n",
    "# ROC&AUC\n",
    "fpr_32, tpr_32, auc_32 = ROC_AUC(y_test_arr, predict)\n",
    "print(\"AUC: \", auc_32)\n",
    "# write CSV\n",
    "csv_writer.writerow([\"ST sampling 32*32\", score[1], val_TPR, val_TNR, auc_32])"
   ]
  },
  {
   "cell_type": "code",
   "execution_count": 18,
   "metadata": {},
   "outputs": [
    {
     "name": "stdout",
     "output_type": "stream",
     "text": [
      "WARNING:tensorflow:From /home/ilab/anaconda2/envs/py36/lib/python3.6/site-packages/keras/backend/tensorflow_backend.py:3445: calling dropout (from tensorflow.python.ops.nn_ops) with keep_prob is deprecated and will be removed in a future version.\n",
      "Instructions for updating:\n",
      "Please use `rate` instead of `keep_prob`. Rate should be set to `rate = 1 - keep_prob`.\n",
      "Acc:  0.8643216086392427\n",
      "TPR:  0.8571428571428571\n",
      "TNR:  0.8787878787878788\n",
      "AUC:  0.9121667805878332\n"
     ]
    },
    {
     "data": {
      "text/plain": [
       "87"
      ]
     },
     "execution_count": 18,
     "metadata": {},
     "output_type": "execute_result"
    },
    {
     "data": {
      "image/png": "[encoded data removed]",
      "text/plain": [
       "<Figure size 432x288 with 1 Axes>"
      ]
     },
     "metadata": {
      "needs_background": "light"
     },
     "output_type": "display_data"
    }
   ],
   "source": [
    "# GoogLeNet\n",
    "K.clear_session()\n",
    "tf.reset_default_graph()\n",
    "\n",
    "model = MiniGoogLeNet.build(128,128,1,2)\n",
    "model.load_weights('/media/ilab/35C588B63481173F/SelectModel/GoogLeNetBest.hdf5')\n",
    "model.compile(loss='categorical_crossentropy',\n",
    "                  optimizer='Adam',\n",
    "                  metrics=['accuracy'])\n",
    "# Acc\n",
    "score = model.evaluate(x_test_arr, y_test_arr, verbose=0)\n",
    "print(\"Acc: \",score[1])\n",
    "# TPR\n",
    "predict = model.predict(x_test_arr)\n",
    "predict_classes=np.argmax(predict,axis=1)\n",
    "predict_classes=np_utils.to_categorical(predict_classes, 2)\n",
    "val_TPR = TPR(y_test_arr, predict_classes)\n",
    "print(\"TPR: \",val_TPR)\n",
    "# TNR\n",
    "val_TNR = TNR(y_test_arr, predict_classes)\n",
    "print(\"TNR: \",val_TNR)\n",
    "# ROC&AUC\n",
    "fpr_GoogLeNet, tpr_GoogLeNet, auc_GoogLeNet = ROC_AUC(y_test_arr, predict)\n",
    "print(\"AUC: \", auc_GoogLeNet)\n",
    "# write CSV\n",
    "csv_writer.writerow([\"GoogLeNet\", score[1], val_TPR, val_TNR, auc_GoogLeNet])"
   ]
  },
  {
   "cell_type": "code",
   "execution_count": 19,
   "metadata": {},
   "outputs": [],
   "source": [
    "f.close()"
   ]
  },
  {
   "cell_type": "code",
   "execution_count": 20,
   "metadata": {},
   "outputs": [
    {
     "data": {
      "image/png": "[encoded data removed]",
      "text/plain": [
       "<Figure size 432x288 with 1 Axes>"
      ]
     },
     "metadata": {
      "needs_background": "light"
     },
     "output_type": "display_data"
    },
    {
     "data": {
      "text/plain": [
       "<Figure size 432x288 with 0 Axes>"
      ]
     },
     "metadata": {},
     "output_type": "display_data"
    }
   ],
   "source": [
    "plt.plot(fpr_MyNet, tpr_MyNet, color='blue', label=\"MyNetWork\")\n",
    "plt.plot(fpr_STRes, tpr_STRes, color='green', label=\"ST-Res\")\n",
    "plt.plot(fpr_ResNet, tpr_ResNet, color='black', label=\"ResNet\")\n",
    "plt.plot(fpr_HOG, tpr_HOG, color='brown', label=\"HOG\")\n",
    "plt.plot(fpr_LBP, tpr_LBP, color='cyan', label=\"LBP\")\n",
    "plt.plot(fpr_HAAR, tpr_HAAR, color='darkblue', label=\"HAAR\")\n",
    "plt.plot(fpr_HOGLBP, tpr_HOGLBP, color='deeppink', label=\"HOGLBP\")\n",
    "plt.plot(fpr_HOGHAAR, tpr_HOGHAAR, color='gold', label=\"HOGHAAR\")\n",
    "plt.plot(fpr_LBPHAAR, tpr_LBPHAAR, color='gainsboro', label=\"LBPHAAR\")\n",
    "plt.plot(fpr_96, tpr_96, color='greenyellow', label=\"96\")\n",
    "plt.plot(fpr_64, tpr_64, color='hotpink', label=\"64\")\n",
    "plt.plot(fpr_32, tpr_32, color='orange', label=\"32\")\n",
    "plt.plot(fpr_GoogLeNet, tpr_GoogLeNet, color='tan', label=\"GoogLeNet\")\n",
    "plt.legend()\n",
    "plt.xlabel('False Positive Rate')\n",
    "plt.ylabel('True Positive Rate')\n",
    "plt.show()\n",
    "plt.savefig('ExperimentResult/temp.jpg')"
   ]
  },
  {
   "cell_type": "code",
   "execution_count": null,
   "metadata": {},
   "outputs": [],
   "source": []
  }
 ],
 "metadata": {
  "kernelspec": {
   "display_name": "py36",
   "language": "python",
   "name": "py36"
  },
  "language_info": {
   "codemirror_mode": {
    "name": "ipython",
    "version": 3
   },
   "file_extension": ".py",
   "mimetype": "text/x-python",
   "name": "python",
   "nbconvert_exporter": "python",
   "pygments_lexer": "ipython3",
   "version": "3.6.9"
  }
 },
 "nbformat": 4,
 "nbformat_minor": 2
}
