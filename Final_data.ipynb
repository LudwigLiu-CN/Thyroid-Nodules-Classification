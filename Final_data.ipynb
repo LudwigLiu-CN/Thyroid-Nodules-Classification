{
 "cells": [
  {
   "cell_type": "code",
   "execution_count": 1,
   "metadata": {
    "collapsed": true
   },
   "outputs": [],
   "source": [
    "import numpy as np"
   ]
  },
  {
   "cell_type": "code",
   "execution_count": 2,
   "metadata": {
    "collapsed": false
   },
   "outputs": [
    {
     "name": "stdout",
     "output_type": "stream",
     "text": [
      "(1364, 128, 128, 1)\n",
      "(1364, 2)\n"
     ]
    }
   ],
   "source": [
    "num_classes = 2\n",
    "\n",
    "# input image dimensions\n",
    "img_rows, img_cols = 128, 128\n",
    "input_shape = (img_rows, img_cols, 1)\n",
    "\n",
    "Input = np.load('Data/selected_data.npz')\n",
    "\n",
    "data = Input[\"data\"]\n",
    "label = Input[\"label\"]\n",
    "\n",
    "print (data.shape)\n",
    "print (label.shape)"
   ]
  },
  {
   "cell_type": "code",
   "execution_count": 3,
   "metadata": {
    "collapsed": false
   },
   "outputs": [
    {
     "name": "stdout",
     "output_type": "stream",
     "text": [
      "511\n"
     ]
    }
   ],
   "source": [
    "num = 0\n",
    "for i in range(len(label)):\n",
    "    if label[i][0] == 0:\n",
    "        num += 1\n",
    "print(num)"
   ]
  },
  {
   "cell_type": "code",
   "execution_count": 4,
   "metadata": {
    "collapsed": false
   },
   "outputs": [
    {
     "name": "stdout",
     "output_type": "stream",
     "text": [
      "(1022, 128, 128, 1)\n",
      "(1022, 2)\n"
     ]
    }
   ],
   "source": [
    "data_final = []\n",
    "label_final = []\n",
    "num_0=0\n",
    "num_1=0\n",
    "for i in range(len(label)):\n",
    "    if label[i][0]==1:\n",
    "        if num_0<511:\n",
    "            data_final.append(data[i])\n",
    "            label_final.append(label[i])\n",
    "            num_0+=1\n",
    "    elif label[i][1]==1:\n",
    "        if num_1<511:\n",
    "            data_final.append(data[i])\n",
    "            label_final.append(label[i])\n",
    "            num_1+=1\n",
    "    if num_0 == 511:\n",
    "        if num_1 == 511:\n",
    "            break\n",
    "\n",
    "data_final = np.array(data_final)\n",
    "label_final = np.array(label_final)\n",
    "\n",
    "print(data_final.shape)\n",
    "print(label_final.shape)"
   ]
  },
  {
   "cell_type": "code",
   "execution_count": 5,
   "metadata": {
    "collapsed": false
   },
   "outputs": [
    {
     "name": "stdout",
     "output_type": "stream",
     "text": [
      "[[0. 1.]\n",
      " [1. 0.]\n",
      " [1. 0.]\n",
      " ...\n",
      " [0. 1.]\n",
      " [0. 1.]\n",
      " [0. 1.]]\n"
     ]
    }
   ],
   "source": [
    "print(label_final)"
   ]
  },
  {
   "cell_type": "code",
   "execution_count": 6,
   "metadata": {
    "collapsed": true
   },
   "outputs": [],
   "source": [
    "np.savez('Data/final_data.npz', data=data_final, label=label_final)"
   ]
  }
 ],
 "metadata": {
  "anaconda-cloud": {},
  "kernelspec": {
   "display_name": "Python [conda env:py2-Keras]",
   "language": "python",
   "name": "conda-env-py2-Keras-py"
  },
  "language_info": {
   "codemirror_mode": {
    "name": "ipython",
    "version": 2
   },
   "file_extension": ".py",
   "mimetype": "text/x-python",
   "name": "python",
   "nbconvert_exporter": "python",
   "pygments_lexer": "ipython2",
   "version": "2.7.16"
  }
 },
 "nbformat": 4,
 "nbformat_minor": 1
}
